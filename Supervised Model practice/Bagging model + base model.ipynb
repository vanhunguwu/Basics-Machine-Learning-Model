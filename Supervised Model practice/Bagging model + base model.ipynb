{
 "cells": [
  {
   "cell_type": "markdown",
   "id": "0a3da461",
   "metadata": {},
   "source": [
    "0. Import all libraries"
   ]
  },
  {
   "cell_type": "code",
   "execution_count": 49,
   "id": "b9f12854",
   "metadata": {},
   "outputs": [],
   "source": [
    "import pandas as pd\n",
    "import seaborn as sns\n",
    "import matplotlib.pyplot as plt\n",
    "from scipy import stats\n",
    "from sklearn.preprocessing import StandardScaler\n",
    "from sklearn.model_selection import train_test_split, cross_val_score\n",
    "from sklearn.svm import SVC\n",
    "from sklearn.ensemble import BaggingClassifier\n",
    "from sklearn.tree import DecisionTreeClassifier\n",
    "import warnings\n"
   ]
  },
  {
   "cell_type": "markdown",
   "id": "2d681fd5",
   "metadata": {},
   "source": [
    "1. Load heart disease dataset in pandas dataframe\n"
   ]
  },
  {
   "cell_type": "code",
   "execution_count": 2,
   "id": "e8bf7cdb",
   "metadata": {},
   "outputs": [
    {
     "data": {
      "text/html": [
       "<div>\n",
       "<style scoped>\n",
       "    .dataframe tbody tr th:only-of-type {\n",
       "        vertical-align: middle;\n",
       "    }\n",
       "\n",
       "    .dataframe tbody tr th {\n",
       "        vertical-align: top;\n",
       "    }\n",
       "\n",
       "    .dataframe thead th {\n",
       "        text-align: right;\n",
       "    }\n",
       "</style>\n",
       "<table border=\"1\" class=\"dataframe\">\n",
       "  <thead>\n",
       "    <tr style=\"text-align: right;\">\n",
       "      <th></th>\n",
       "      <th>Age</th>\n",
       "      <th>Sex</th>\n",
       "      <th>ChestPainType</th>\n",
       "      <th>RestingBP</th>\n",
       "      <th>Cholesterol</th>\n",
       "      <th>FastingBS</th>\n",
       "      <th>RestingECG</th>\n",
       "      <th>MaxHR</th>\n",
       "      <th>ExerciseAngina</th>\n",
       "      <th>Oldpeak</th>\n",
       "      <th>ST_Slope</th>\n",
       "      <th>HeartDisease</th>\n",
       "    </tr>\n",
       "  </thead>\n",
       "  <tbody>\n",
       "    <tr>\n",
       "      <th>0</th>\n",
       "      <td>40</td>\n",
       "      <td>M</td>\n",
       "      <td>ATA</td>\n",
       "      <td>140</td>\n",
       "      <td>289</td>\n",
       "      <td>0</td>\n",
       "      <td>Normal</td>\n",
       "      <td>172</td>\n",
       "      <td>N</td>\n",
       "      <td>0.0</td>\n",
       "      <td>Up</td>\n",
       "      <td>0</td>\n",
       "    </tr>\n",
       "    <tr>\n",
       "      <th>1</th>\n",
       "      <td>49</td>\n",
       "      <td>F</td>\n",
       "      <td>NAP</td>\n",
       "      <td>160</td>\n",
       "      <td>180</td>\n",
       "      <td>0</td>\n",
       "      <td>Normal</td>\n",
       "      <td>156</td>\n",
       "      <td>N</td>\n",
       "      <td>1.0</td>\n",
       "      <td>Flat</td>\n",
       "      <td>1</td>\n",
       "    </tr>\n",
       "    <tr>\n",
       "      <th>2</th>\n",
       "      <td>37</td>\n",
       "      <td>M</td>\n",
       "      <td>ATA</td>\n",
       "      <td>130</td>\n",
       "      <td>283</td>\n",
       "      <td>0</td>\n",
       "      <td>ST</td>\n",
       "      <td>98</td>\n",
       "      <td>N</td>\n",
       "      <td>0.0</td>\n",
       "      <td>Up</td>\n",
       "      <td>0</td>\n",
       "    </tr>\n",
       "    <tr>\n",
       "      <th>3</th>\n",
       "      <td>48</td>\n",
       "      <td>F</td>\n",
       "      <td>ASY</td>\n",
       "      <td>138</td>\n",
       "      <td>214</td>\n",
       "      <td>0</td>\n",
       "      <td>Normal</td>\n",
       "      <td>108</td>\n",
       "      <td>Y</td>\n",
       "      <td>1.5</td>\n",
       "      <td>Flat</td>\n",
       "      <td>1</td>\n",
       "    </tr>\n",
       "    <tr>\n",
       "      <th>4</th>\n",
       "      <td>54</td>\n",
       "      <td>M</td>\n",
       "      <td>NAP</td>\n",
       "      <td>150</td>\n",
       "      <td>195</td>\n",
       "      <td>0</td>\n",
       "      <td>Normal</td>\n",
       "      <td>122</td>\n",
       "      <td>N</td>\n",
       "      <td>0.0</td>\n",
       "      <td>Up</td>\n",
       "      <td>0</td>\n",
       "    </tr>\n",
       "    <tr>\n",
       "      <th>...</th>\n",
       "      <td>...</td>\n",
       "      <td>...</td>\n",
       "      <td>...</td>\n",
       "      <td>...</td>\n",
       "      <td>...</td>\n",
       "      <td>...</td>\n",
       "      <td>...</td>\n",
       "      <td>...</td>\n",
       "      <td>...</td>\n",
       "      <td>...</td>\n",
       "      <td>...</td>\n",
       "      <td>...</td>\n",
       "    </tr>\n",
       "    <tr>\n",
       "      <th>913</th>\n",
       "      <td>45</td>\n",
       "      <td>M</td>\n",
       "      <td>TA</td>\n",
       "      <td>110</td>\n",
       "      <td>264</td>\n",
       "      <td>0</td>\n",
       "      <td>Normal</td>\n",
       "      <td>132</td>\n",
       "      <td>N</td>\n",
       "      <td>1.2</td>\n",
       "      <td>Flat</td>\n",
       "      <td>1</td>\n",
       "    </tr>\n",
       "    <tr>\n",
       "      <th>914</th>\n",
       "      <td>68</td>\n",
       "      <td>M</td>\n",
       "      <td>ASY</td>\n",
       "      <td>144</td>\n",
       "      <td>193</td>\n",
       "      <td>1</td>\n",
       "      <td>Normal</td>\n",
       "      <td>141</td>\n",
       "      <td>N</td>\n",
       "      <td>3.4</td>\n",
       "      <td>Flat</td>\n",
       "      <td>1</td>\n",
       "    </tr>\n",
       "    <tr>\n",
       "      <th>915</th>\n",
       "      <td>57</td>\n",
       "      <td>M</td>\n",
       "      <td>ASY</td>\n",
       "      <td>130</td>\n",
       "      <td>131</td>\n",
       "      <td>0</td>\n",
       "      <td>Normal</td>\n",
       "      <td>115</td>\n",
       "      <td>Y</td>\n",
       "      <td>1.2</td>\n",
       "      <td>Flat</td>\n",
       "      <td>1</td>\n",
       "    </tr>\n",
       "    <tr>\n",
       "      <th>916</th>\n",
       "      <td>57</td>\n",
       "      <td>F</td>\n",
       "      <td>ATA</td>\n",
       "      <td>130</td>\n",
       "      <td>236</td>\n",
       "      <td>0</td>\n",
       "      <td>LVH</td>\n",
       "      <td>174</td>\n",
       "      <td>N</td>\n",
       "      <td>0.0</td>\n",
       "      <td>Flat</td>\n",
       "      <td>1</td>\n",
       "    </tr>\n",
       "    <tr>\n",
       "      <th>917</th>\n",
       "      <td>38</td>\n",
       "      <td>M</td>\n",
       "      <td>NAP</td>\n",
       "      <td>138</td>\n",
       "      <td>175</td>\n",
       "      <td>0</td>\n",
       "      <td>Normal</td>\n",
       "      <td>173</td>\n",
       "      <td>N</td>\n",
       "      <td>0.0</td>\n",
       "      <td>Up</td>\n",
       "      <td>0</td>\n",
       "    </tr>\n",
       "  </tbody>\n",
       "</table>\n",
       "<p>918 rows × 12 columns</p>\n",
       "</div>"
      ],
      "text/plain": [
       "     Age Sex ChestPainType  RestingBP  Cholesterol  FastingBS RestingECG  \\\n",
       "0     40   M           ATA        140          289          0     Normal   \n",
       "1     49   F           NAP        160          180          0     Normal   \n",
       "2     37   M           ATA        130          283          0         ST   \n",
       "3     48   F           ASY        138          214          0     Normal   \n",
       "4     54   M           NAP        150          195          0     Normal   \n",
       "..   ...  ..           ...        ...          ...        ...        ...   \n",
       "913   45   M            TA        110          264          0     Normal   \n",
       "914   68   M           ASY        144          193          1     Normal   \n",
       "915   57   M           ASY        130          131          0     Normal   \n",
       "916   57   F           ATA        130          236          0        LVH   \n",
       "917   38   M           NAP        138          175          0     Normal   \n",
       "\n",
       "     MaxHR ExerciseAngina  Oldpeak ST_Slope  HeartDisease  \n",
       "0      172              N      0.0       Up             0  \n",
       "1      156              N      1.0     Flat             1  \n",
       "2       98              N      0.0       Up             0  \n",
       "3      108              Y      1.5     Flat             1  \n",
       "4      122              N      0.0       Up             0  \n",
       "..     ...            ...      ...      ...           ...  \n",
       "913    132              N      1.2     Flat             1  \n",
       "914    141              N      3.4     Flat             1  \n",
       "915    115              Y      1.2     Flat             1  \n",
       "916    174              N      0.0     Flat             1  \n",
       "917    173              N      0.0       Up             0  \n",
       "\n",
       "[918 rows x 12 columns]"
      ]
     },
     "execution_count": 2,
     "metadata": {},
     "output_type": "execute_result"
    }
   ],
   "source": [
    "#import dataset\n",
    "df = pd.read_csv(\"C:\\\\basic_machine_learning_model\\\\heart failure disease dataset\\\\heart.csv\")\n",
    "df"
   ]
  },
  {
   "cell_type": "code",
   "execution_count": 3,
   "id": "7786d4ce",
   "metadata": {
    "scrolled": false
   },
   "outputs": [
    {
     "data": {
      "image/png": "[encoded data removed]",
      "text/plain": [
       "<Figure size 1500x1000 with 6 Axes>"
      ]
     },
     "metadata": {},
     "output_type": "display_data"
    }
   ],
   "source": [
    "\n",
    "# Assuming your DataFrame is named 'df'\n",
    "# If not, replace 'df' with your DataFrame's name\n",
    "\n",
    "# Set the style of seaborn for better aesthetics\n",
    "sns.set(style=\"whitegrid\")\n",
    "\n",
    "# Set up the matplotlib figure\n",
    "plt.figure(figsize=(15, 10))\n",
    "\n",
    "# Specify the columns you want to plot\n",
    "selected_columns = ['Age', 'RestingBP', 'Cholesterol', 'FastingBS', 'MaxHR', 'Oldpeak']\n",
    "\n",
    "# Loop through each selected column and create a boxplot\n",
    "for i, column in enumerate(selected_columns):\n",
    "    plt.subplot(2, 3, i+1)  # Adjust the subplot grid as needed\n",
    "    sns.boxplot(x=df[column])\n",
    "    plt.title(column)\n",
    "\n",
    "plt.tight_layout()\n",
    "plt.show()"
   ]
  },
  {
   "cell_type": "markdown",
   "id": "d79e3237",
   "metadata": {},
   "source": [
    "2. Remove outliers using Z score. Usual guideline is to remove anything that has Z score > 3 formula or Z score < -3\n"
   ]
  },
  {
   "cell_type": "code",
   "execution_count": 4,
   "id": "d51f4fcb",
   "metadata": {},
   "outputs": [
    {
     "name": "stdout",
     "output_type": "stream",
     "text": [
      "     Age Sex ChestPainType  RestingBP  Cholesterol  FastingBS RestingECG  \\\n",
      "0     40   M           ATA        140          289          0     Normal   \n",
      "1     49   F           NAP        160          180          0     Normal   \n",
      "2     37   M           ATA        130          283          0         ST   \n",
      "3     48   F           ASY        138          214          0     Normal   \n",
      "4     54   M           NAP        150          195          0     Normal   \n",
      "..   ...  ..           ...        ...          ...        ...        ...   \n",
      "913   45   M            TA        110          264          0     Normal   \n",
      "914   68   M           ASY        144          193          1     Normal   \n",
      "915   57   M           ASY        130          131          0     Normal   \n",
      "916   57   F           ATA        130          236          0        LVH   \n",
      "917   38   M           NAP        138          175          0     Normal   \n",
      "\n",
      "     MaxHR ExerciseAngina  Oldpeak ST_Slope  HeartDisease  \n",
      "0      172              N      0.0       Up             0  \n",
      "1      156              N      1.0     Flat             1  \n",
      "2       98              N      0.0       Up             0  \n",
      "3      108              Y      1.5     Flat             1  \n",
      "4      122              N      0.0       Up             0  \n",
      "..     ...            ...      ...      ...           ...  \n",
      "913    132              N      1.2     Flat             1  \n",
      "914    141              N      3.4     Flat             1  \n",
      "915    115              Y      1.2     Flat             1  \n",
      "916    174              N      0.0     Flat             1  \n",
      "917    173              N      0.0       Up             0  \n",
      "\n",
      "[899 rows x 12 columns]\n"
     ]
    }
   ],
   "source": [
    "\n",
    "# Specify the columns for which you want to remove outliers\n",
    "columns_to_remove_outliers = ['Age', 'RestingBP', 'Cholesterol', 'MaxHR', 'Oldpeak']\n",
    "\n",
    "# Loop through each selected column and calculate Z-scores\n",
    "for column in columns_to_remove_outliers:\n",
    "    z_scores = stats.zscore(df[column])\n",
    "    \n",
    "    # Identify outliers based on the Z-score threshold (e.g., 3 or -3)\n",
    "    outliers = (z_scores > 3) | (z_scores < -3)\n",
    "    \n",
    "    # Remove outliers from the DataFrame\n",
    "    df = df[~outliers]\n",
    "\n",
    "# Display the updated DataFrame without outliers\n",
    "print(df)"
   ]
  },
  {
   "cell_type": "markdown",
   "id": "67922c48",
   "metadata": {},
   "source": [
    "3. Convert text columns to numbers using label encoding and one hot encoding\n"
   ]
  },
  {
   "cell_type": "code",
   "execution_count": 5,
   "id": "140a3f9b",
   "metadata": {},
   "outputs": [
    {
     "name": "stdout",
     "output_type": "stream",
     "text": [
      "     Age  RestingBP  Cholesterol  FastingBS  MaxHR  Oldpeak  HeartDisease  \\\n",
      "0     40        140          289          0    172      0.0             0   \n",
      "1     49        160          180          0    156      1.0             1   \n",
      "2     37        130          283          0     98      0.0             0   \n",
      "3     48        138          214          0    108      1.5             1   \n",
      "4     54        150          195          0    122      0.0             0   \n",
      "..   ...        ...          ...        ...    ...      ...           ...   \n",
      "913   45        110          264          0    132      1.2             1   \n",
      "914   68        144          193          1    141      3.4             1   \n",
      "915   57        130          131          0    115      1.2             1   \n",
      "916   57        130          236          0    174      0.0             1   \n",
      "917   38        138          175          0    173      0.0             0   \n",
      "\n",
      "     Sex_F  Sex_M  ChestPainType_ASY  ...  ChestPainType_NAP  \\\n",
      "0    False   True              False  ...              False   \n",
      "1     True  False              False  ...               True   \n",
      "2    False   True              False  ...              False   \n",
      "3     True  False               True  ...              False   \n",
      "4    False   True              False  ...               True   \n",
      "..     ...    ...                ...  ...                ...   \n",
      "913  False   True              False  ...              False   \n",
      "914  False   True               True  ...              False   \n",
      "915  False   True               True  ...              False   \n",
      "916   True  False              False  ...              False   \n",
      "917  False   True              False  ...               True   \n",
      "\n",
      "     ChestPainType_TA  RestingECG_LVH  RestingECG_Normal  RestingECG_ST  \\\n",
      "0               False           False               True          False   \n",
      "1               False           False               True          False   \n",
      "2               False           False              False           True   \n",
      "3               False           False               True          False   \n",
      "4               False           False               True          False   \n",
      "..                ...             ...                ...            ...   \n",
      "913              True           False               True          False   \n",
      "914             False           False               True          False   \n",
      "915             False           False               True          False   \n",
      "916             False            True              False          False   \n",
      "917             False           False               True          False   \n",
      "\n",
      "     ST_Slope_Down  ST_Slope_Flat  ST_Slope_Up  ExerciseAngina_N  \\\n",
      "0            False          False         True              True   \n",
      "1            False           True        False              True   \n",
      "2            False          False         True              True   \n",
      "3            False           True        False             False   \n",
      "4            False          False         True              True   \n",
      "..             ...            ...          ...               ...   \n",
      "913          False           True        False              True   \n",
      "914          False           True        False              True   \n",
      "915          False           True        False             False   \n",
      "916          False           True        False              True   \n",
      "917          False          False         True              True   \n",
      "\n",
      "     ExerciseAngina_Y  \n",
      "0               False  \n",
      "1               False  \n",
      "2               False  \n",
      "3                True  \n",
      "4               False  \n",
      "..                ...  \n",
      "913             False  \n",
      "914             False  \n",
      "915              True  \n",
      "916             False  \n",
      "917             False  \n",
      "\n",
      "[899 rows x 21 columns]\n"
     ]
    }
   ],
   "source": [
    "# Assuming your DataFrame is named 'df'\n",
    "# If not, replace 'df' with your DataFrame's name\n",
    "\n",
    "# Specify the categorical columns for which you want to create dummy variables\n",
    "categorical_columns = ['Sex', 'ChestPainType', 'RestingECG', 'ST_Slope','ExerciseAngina']\n",
    "\n",
    "# Use pd.get_dummies to create dummy variables for the specified columns\n",
    "df = pd.get_dummies(df, columns=categorical_columns)\n",
    "\n",
    "# Display the updated DataFrame with dummy variables\n",
    "print(df)\n"
   ]
  },
  {
   "cell_type": "markdown",
   "id": "548e32af",
   "metadata": {},
   "source": [
    "4. Apply scaling\n"
   ]
  },
  {
   "cell_type": "code",
   "execution_count": 6,
   "id": "c426907d",
   "metadata": {},
   "outputs": [
    {
     "name": "stdout",
     "output_type": "stream",
     "text": [
      "          Age  RestingBP  Cholesterol  FastingBS     MaxHR   Oldpeak  \\\n",
      "0   -1.428154   0.465900     0.849636          0  1.384320 -0.855469   \n",
      "1   -0.475855   1.634714    -0.168122          0  0.752973  0.137516   \n",
      "2   -1.745588  -0.118507     0.793612          0 -1.535661 -0.855469   \n",
      "3   -0.581666   0.349019     0.149344          0 -1.141069  0.634008   \n",
      "4    0.053200   1.050307    -0.028064          0 -0.588640 -0.855469   \n",
      "..        ...        ...          ...        ...       ...       ...   \n",
      "913 -0.899099  -1.287320     0.616205          0 -0.194048  0.336112   \n",
      "914  1.534554   0.699663    -0.046738          1  0.161085  2.520678   \n",
      "915  0.370633  -0.118507    -0.625646          0 -0.864854  0.336112   \n",
      "916  0.370633  -0.118507     0.354763          0  1.463238 -0.855469   \n",
      "917 -1.639776   0.349019    -0.214808          0  1.423779 -0.855469   \n",
      "\n",
      "     HeartDisease  Sex_F  Sex_M  ChestPainType_ASY  ...  ChestPainType_NAP  \\\n",
      "0               0  False   True              False  ...              False   \n",
      "1               1   True  False              False  ...               True   \n",
      "2               0  False   True              False  ...              False   \n",
      "3               1   True  False               True  ...              False   \n",
      "4               0  False   True              False  ...               True   \n",
      "..            ...    ...    ...                ...  ...                ...   \n",
      "913             1  False   True              False  ...              False   \n",
      "914             1  False   True               True  ...              False   \n",
      "915             1  False   True               True  ...              False   \n",
      "916             1   True  False              False  ...              False   \n",
      "917             0  False   True              False  ...               True   \n",
      "\n",
      "     ChestPainType_TA  RestingECG_LVH  RestingECG_Normal  RestingECG_ST  \\\n",
      "0               False           False               True          False   \n",
      "1               False           False               True          False   \n",
      "2               False           False              False           True   \n",
      "3               False           False               True          False   \n",
      "4               False           False               True          False   \n",
      "..                ...             ...                ...            ...   \n",
      "913              True           False               True          False   \n",
      "914             False           False               True          False   \n",
      "915             False           False               True          False   \n",
      "916             False            True              False          False   \n",
      "917             False           False               True          False   \n",
      "\n",
      "     ST_Slope_Down  ST_Slope_Flat  ST_Slope_Up  ExerciseAngina_N  \\\n",
      "0            False          False         True              True   \n",
      "1            False           True        False              True   \n",
      "2            False          False         True              True   \n",
      "3            False           True        False             False   \n",
      "4            False          False         True              True   \n",
      "..             ...            ...          ...               ...   \n",
      "913          False           True        False              True   \n",
      "914          False           True        False              True   \n",
      "915          False           True        False             False   \n",
      "916          False           True        False              True   \n",
      "917          False          False         True              True   \n",
      "\n",
      "     ExerciseAngina_Y  \n",
      "0               False  \n",
      "1               False  \n",
      "2               False  \n",
      "3                True  \n",
      "4               False  \n",
      "..                ...  \n",
      "913             False  \n",
      "914             False  \n",
      "915              True  \n",
      "916             False  \n",
      "917             False  \n",
      "\n",
      "[899 rows x 21 columns]\n"
     ]
    }
   ],
   "source": [
    "# Select numeric columns for standardization\n",
    "numeric_columns = ['Age', 'RestingBP', 'Cholesterol', 'MaxHR', 'Oldpeak']\n",
    "\n",
    "# Create a StandardScaler instance\n",
    "scaler = StandardScaler()\n",
    "\n",
    "# Fit and transform the selected numeric columns\n",
    "df[numeric_columns] = scaler.fit_transform(df[numeric_columns])\n",
    "\n",
    "# Display the updated DataFrame with standardized numeric columns\n",
    "print(df)\n"
   ]
  },
  {
   "cell_type": "markdown",
   "id": "7b178455",
   "metadata": {},
   "source": [
    "5. Build a classification model using support vector machine. Use standalone model as well as Bagging model and check if you see any difference in the performance.\n"
   ]
  },
  {
   "cell_type": "markdown",
   "id": "02b60900",
   "metadata": {},
   "source": [
    "SVM model "
   ]
  },
  {
   "cell_type": "code",
   "execution_count": 42,
   "id": "7fc60cbe",
   "metadata": {},
   "outputs": [],
   "source": [
    "from sklearn.model_selection import train_test_split\n",
    "X = df.drop('HeartDisease', axis=1)\n",
    "y = df['HeartDisease']\n",
    "X_train, X_test, y_train, y_test = train_test_split(X, y,stratify=y, random_state=10)"
   ]
  },
  {
   "cell_type": "code",
   "execution_count": 43,
   "id": "b8008320",
   "metadata": {},
   "outputs": [
    {
     "data": {
      "text/plain": [
       "(674, 20)"
      ]
     },
     "execution_count": 43,
     "metadata": {},
     "output_type": "execute_result"
    }
   ],
   "source": [
    "X_train.shape"
   ]
  },
  {
   "cell_type": "code",
   "execution_count": 44,
   "id": "c507d767",
   "metadata": {},
   "outputs": [
    {
     "data": {
      "text/plain": [
       "(225, 20)"
      ]
     },
     "execution_count": 44,
     "metadata": {},
     "output_type": "execute_result"
    }
   ],
   "source": [
    "X_test.shape"
   ]
  },
  {
   "cell_type": "code",
   "execution_count": 45,
   "id": "cc40588d",
   "metadata": {},
   "outputs": [
    {
     "name": "stdout",
     "output_type": "stream",
     "text": [
      "Test Set Accuracy: 0.9111111111111111\n",
      "Individual Cross-Validation Scores: [0.85       0.86666667 0.85       0.83333333 0.75418994]\n",
      "Mean Cross-Validation Score: 0.8308379888268156\n"
     ]
    }
   ],
   "source": [
    "\n",
    "# Create an SVC model\n",
    "svc_model = SVC()\n",
    "\n",
    "svc_model.fit(X_train,y_train)\n",
    "test_accuracy = svc_model.score(X_test, y_test)\n",
    "print(\"Test Set Accuracy:\", test_accuracy)# Perform cross-validation and print individual scores\n",
    "cv_scores = cross_val_score(svc_model, X, y, cv=5) \n",
    "# Adjust cv as needed\n",
    "print(\"Individual Cross-Validation Scores:\", cv_scores)\n",
    "\n",
    "# Print the mean of the cross-validation scores\n",
    "mean_cv_score = cv_scores.mean()\n",
    "print(\"Mean Cross-Validation Score:\", mean_cv_score)\n"
   ]
  },
  {
   "cell_type": "markdown",
   "id": "3cf876b7",
   "metadata": {},
   "source": [
    "Bagging Model "
   ]
  },
  {
   "cell_type": "code",
   "execution_count": 46,
   "id": "0f056b39",
   "metadata": {},
   "outputs": [
    {
     "name": "stderr",
     "output_type": "stream",
     "text": [
      "C:\\Users\\vanhu\\anaconda3\\Lib\\site-packages\\sklearn\\ensemble\\_base.py:156: FutureWarning: `base_estimator` was renamed to `estimator` in version 1.2 and will be removed in 1.4.\n",
      "  warnings.warn(\n"
     ]
    },
    {
     "name": "stdout",
     "output_type": "stream",
     "text": [
      "Out-of-Bag Score: 0.8590504451038575\n",
      "Test Set Accuracy: 0.9155555555555556\n"
     ]
    }
   ],
   "source": [
    "# Create a BaggingClassifier with an SVC base estimator\n",
    "bag_model = BaggingClassifier(\n",
    "    base_estimator=SVC(),\n",
    "    n_estimators=100,\n",
    "    max_samples=0.8,\n",
    "    oob_score=True,\n",
    "    random_state=0  # Corrected typo in 'randome_state' to 'random_state'\n",
    ")\n",
    "\n",
    "# Fit the BaggingClassifier on the training data\n",
    "bag_model.fit(X_train, y_train)\n",
    "\n",
    "# Print the out-of-bag score\n",
    "print(\"Out-of-Bag Score:\", bag_model.oob_score_)\n",
    "\n",
    "# Print the accuracy score on the test set\n",
    "test_accuracy = bag_model.score(X_test, y_test)\n",
    "print(\"Test Set Accuracy:\", test_accuracy)"
   ]
  },
  {
   "cell_type": "code",
   "execution_count": 47,
   "id": "fc5d2b46",
   "metadata": {},
   "outputs": [
    {
     "name": "stdout",
     "output_type": "stream",
     "text": [
      "Cross-Validation Scores: [0.85       0.86111111 0.83888889 0.84444444 0.75977654]\n",
      "Mean Cross-Validation Score: 0.8308441961514588\n"
     ]
    }
   ],
   "source": [
    "bag_model = BaggingClassifier(\n",
    "    estimator=SVC(),\n",
    "    n_estimators=100,\n",
    "    max_samples=0.8,\n",
    "    oob_score=True,\n",
    "    random_state=0\n",
    ")\n",
    "\n",
    "# Use cross_val_score for BaggingClassifier\n",
    "cv_scores = cross_val_score(bag_model, X, y, cv=5)\n",
    "\n",
    "# Print cross-validation scores\n",
    "print(\"Cross-Validation Scores:\", cv_scores)\n",
    "print(\"Mean Cross-Validation Score:\", cv_scores.mean())"
   ]
  },
  {
   "cell_type": "markdown",
   "id": "5747f2eb",
   "metadata": {},
   "source": [
    "=> Accuracy Score and Mean Cross-validation Score of SVM +Baggin improve slightly compares to SVM only."
   ]
  },
  {
   "cell_type": "markdown",
   "id": "82e1502f",
   "metadata": {},
   "source": [
    "6. Now use decision tree classifier. Use standalone model as well as Bagging and check if you notice any difference in performance\n"
   ]
  },
  {
   "cell_type": "code",
   "execution_count": 48,
   "id": "606ab6bc",
   "metadata": {},
   "outputs": [
    {
     "name": "stdout",
     "output_type": "stream",
     "text": [
      "DecisionTreeClassifier Cross-Validation Scores: [0.8        0.81666667 0.79444444 0.73333333 0.63687151]\n",
      "Mean Cross-Validation Score: 0.7562631905648665\n",
      "\n",
      "BaggingClassifier with DecisionTreeClassifier Cross-Validation Scores: [0.90555556 0.81111111 0.83333333 0.80555556 0.74301676]\n",
      "Mean Cross-Validation Score: 0.8197144630664186\n"
     ]
    }
   ],
   "source": [
    "\n",
    "# Suppress the future warning for the name change\n",
    "warnings.filterwarnings(\"ignore\", category=FutureWarning)\n",
    "\n",
    "# Create a standalone DecisionTreeClassifier\n",
    "decision_tree_model = DecisionTreeClassifier(random_state=0)\n",
    "\n",
    "# Use cross_val_score for DecisionTreeClassifier\n",
    "cv_scores_dt = cross_val_score(decision_tree_model, X, y, cv=5)\n",
    "\n",
    "# Print cross-validation scores for standalone DecisionTreeClassifier\n",
    "print(\"DecisionTreeClassifier Cross-Validation Scores:\", cv_scores_dt)\n",
    "print(\"Mean Cross-Validation Score:\", cv_scores_dt.mean())\n",
    "\n",
    "# Create a BaggingClassifier with DecisionTreeClassifier as the base estimator\n",
    "bagging_model_dt = BaggingClassifier(\n",
    "    estimator=DecisionTreeClassifier(random_state=0),\n",
    "    n_estimators=100,\n",
    "    max_samples=0.8,\n",
    "    oob_score=True,\n",
    "    random_state=0\n",
    ")\n",
    "\n",
    "# Use cross_val_score for BaggingClassifier with DecisionTreeClassifier\n",
    "cv_scores_bagging_dt = cross_val_score(bagging_model_dt, X, y, cv=5)\n",
    "\n",
    "# Print cross-validation scores for BaggingClassifier with DecisionTreeClassifier\n",
    "print(\"\\nBaggingClassifier with DecisionTreeClassifier Cross-Validation Scores:\", cv_scores_bagging_dt)\n",
    "print(\"Mean Cross-Validation Score:\", cv_scores_bagging_dt.mean())\n"
   ]
  },
  {
   "cell_type": "markdown",
   "id": "2b1c31e5",
   "metadata": {},
   "source": [
    "7. Comparing performance of svm and decision tree classifier figure out where it makes most sense to use bagging and why. Use internet to figure out in what conditions bagging works the best.\n"
   ]
  },
  {
   "cell_type": "markdown",
   "id": "1fcb8c82",
   "metadata": {},
   "source": [
    "- The BaggingClassifier with DecisionTreeClassifier as the base estimator performed better than the standalone DecisionTreeClassifier. This improvement is consistent with the expected behavior of bagging, especially when dealing with complex models like decision trees.\n"
   ]
  },
  {
   "cell_type": "markdown",
   "id": "30301968",
   "metadata": {},
   "source": [
    "- For SVM, the benefits of bagging may not be as pronounced because SVMs are already relatively stable and less prone to overfitting. However, in some cases, bagging can still provide improvements, particularly when dealing with noisy data or enhancing model robustness."
   ]
  },
  {
   "cell_type": "code",
   "execution_count": null,
   "id": "4e2804d7",
   "metadata": {},
   "outputs": [],
   "source": []
  },
  {
   "cell_type": "code",
   "execution_count": null,
   "id": "db0bebb5",
   "metadata": {},
   "outputs": [],
   "source": []
  }
 ],
 "metadata": {
  "kernelspec": {
   "display_name": "Python 3 (ipykernel)",
   "language": "python",
   "name": "python3"
  },
  "language_info": {
   "codemirror_mode": {
    "name": "ipython",
    "version": 3
   },
   "file_extension": ".py",
   "mimetype": "text/x-python",
   "name": "python",
   "nbconvert_exporter": "python",
   "pygments_lexer": "ipython3",
   "version": "3.11.5"
  }
 },
 "nbformat": 4,
 "nbformat_minor": 5
}
