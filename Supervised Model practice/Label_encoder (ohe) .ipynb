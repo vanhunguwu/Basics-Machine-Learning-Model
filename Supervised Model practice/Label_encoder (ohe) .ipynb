{
 "cells": [
  {
   "cell_type": "code",
   "execution_count": 1,
   "id": "c8426cde",
   "metadata": {},
   "outputs": [],
   "source": [
    "import pandas as pd\n",
    "from sklearn.linear_model import LinearRegression\n",
    "from sklearn.preprocessing import LabelEncoder\n",
    "df = pd.read_csv(r\"C:\\Data_for_learning_overall\\data_machine_learning\\Car_prices.csv\")\n",
    "df.rename(columns={'Car Model': 'car_model'}, inplace=True)"
   ]
  },
  {
   "cell_type": "code",
   "execution_count": 2,
   "id": "efc51204",
   "metadata": {},
   "outputs": [
    {
     "name": "stdout",
     "output_type": "stream",
     "text": [
      "    car_model  Mileage  Sell Price($)  Age(yrs)\n",
      "0           1    69000          18000         6\n",
      "1           1    35000          34000         3\n",
      "2           1    57000          26100         5\n",
      "3           1    22500          40000         2\n",
      "4           1    46000          31500         4\n",
      "5           0    59000          29400         5\n",
      "6           0    52000          32000         5\n",
      "7           0    72000          19300         6\n",
      "8           0    91000          12000         8\n",
      "9           2    67000          22000         6\n",
      "10          2    83000          20000         7\n",
      "11          2    79000          21000         7\n",
      "12          2    59000          33000         5\n"
     ]
    }
   ],
   "source": [
    "# Create a LabelEncoder instance\n",
    "le = LabelEncoder()\n",
    "\n",
    "# Copy the DataFrame to dfle\n",
    "dfle = df.copy()\n",
    "\n",
    "# Fit and transform the 'car_model' column using LabelEncoder\n",
    "dfle['car_model'] = le.fit_transform(dfle['car_model'])\n",
    "\n",
    "# Display the modified DataFrame\n",
    "print(dfle)"
   ]
  },
  {
   "cell_type": "code",
   "execution_count": 16,
   "id": "facf61f1",
   "metadata": {},
   "outputs": [
    {
     "ename": "TypeError",
     "evalue": "OneHotEncoder.__init__() got an unexpected keyword argument 'categorical_features'",
     "output_type": "error",
     "traceback": [
      "\u001b[1;31m---------------------------------------------------------------------------\u001b[0m",
      "\u001b[1;31mTypeError\u001b[0m                                 Traceback (most recent call last)",
      "Cell \u001b[1;32mIn[16], line 9\u001b[0m\n\u001b[0;32m      6\u001b[0m \u001b[38;5;28;01mfrom\u001b[39;00m \u001b[38;5;21;01msklearn\u001b[39;00m\u001b[38;5;21;01m.\u001b[39;00m\u001b[38;5;21;01mpreprocessing\u001b[39;00m \u001b[38;5;28;01mimport\u001b[39;00m OneHotEncoder\n\u001b[0;32m      8\u001b[0m \u001b[38;5;66;03m# One-hot encode the entire DataFrame\u001b[39;00m\n\u001b[1;32m----> 9\u001b[0m ohe \u001b[38;5;241m=\u001b[39m OneHotEncoder(categorical_features\u001b[38;5;241m=\u001b[39m[\u001b[38;5;241m0\u001b[39m]) \n\u001b[0;32m     10\u001b[0m X \u001b[38;5;241m=\u001b[39m ohe\u001b[38;5;241m.\u001b[39mfit_transform(X)\u001b[38;5;241m.\u001b[39mtoarray()\n\u001b[0;32m     11\u001b[0m X\n",
      "\u001b[1;31mTypeError\u001b[0m: OneHotEncoder.__init__() got an unexpected keyword argument 'categorical_features'"
     ]
    }
   ],
   "source": [
    "# Separate the feature matrix X and target variable y\n",
    "X = dfle.drop('Sell Price($)', axis=1)  \n",
    "# Exclude the target variable 'Sell Price($)'\n",
    "y = dfle['Sell Price($)']\n",
    "\n",
    "from sklearn.preprocessing import OneHotEncoder\n",
    "\n",
    "# One-hot encode the entire DataFrame\n",
    "ohe = OneHotEncoder(categorical_features=[0]) \n",
    "X = ohe.fit_transform(X).toarray()\n",
    "X"
   ]
  },
  {
   "cell_type": "code",
   "execution_count": 17,
   "id": "45f68b0e",
   "metadata": {},
   "outputs": [
    {
     "name": "stdout",
     "output_type": "stream",
     "text": [
      "[[1.00e+00 0.00e+00 6.90e+04 6.00e+00]\n",
      " [1.00e+00 0.00e+00 3.50e+04 3.00e+00]\n",
      " [1.00e+00 0.00e+00 5.70e+04 5.00e+00]\n",
      " [1.00e+00 0.00e+00 2.25e+04 2.00e+00]\n",
      " [1.00e+00 0.00e+00 4.60e+04 4.00e+00]\n",
      " [0.00e+00 0.00e+00 5.90e+04 5.00e+00]\n",
      " [0.00e+00 0.00e+00 5.20e+04 5.00e+00]\n",
      " [0.00e+00 0.00e+00 7.20e+04 6.00e+00]\n",
      " [0.00e+00 0.00e+00 9.10e+04 8.00e+00]\n",
      " [0.00e+00 1.00e+00 6.70e+04 6.00e+00]\n",
      " [0.00e+00 1.00e+00 8.30e+04 7.00e+00]\n",
      " [0.00e+00 1.00e+00 7.90e+04 7.00e+00]\n",
      " [0.00e+00 1.00e+00 5.90e+04 5.00e+00]]\n"
     ]
    }
   ],
   "source": [
    "from sklearn.compose import ColumnTransformer\n",
    "from sklearn.preprocessing import OneHotEncoder\n",
    "\n",
    "X = dfle.drop('Sell Price($)', axis=1)\n",
    "y = dfle['Sell Price($)']\n",
    "\n",
    "# Use ColumnTransformer to apply OneHotEncoder to specific columns\n",
    "column_transformer = ColumnTransformer(\n",
    "    transformers=[\n",
    "        ('onehot', OneHotEncoder(drop='first'), ['car_model'])\n",
    "    ],\n",
    "    remainder='passthrough'\n",
    ")\n",
    "\n",
    "X_encoded = column_transformer.fit_transform(X)\n",
    "print(X_encoded)\n"
   ]
  },
  {
   "cell_type": "code",
   "execution_count": 28,
   "id": "3019a880",
   "metadata": {},
   "outputs": [
    {
     "name": "stdout",
     "output_type": "stream",
     "text": [
      "Predicted Price for a Mercedes Benz with 4 years old and mileage 45000: $36,991.32\n"
     ]
    }
   ],
   "source": [
    "from sklearn.linear_model import LinearRegression\n",
    "\n",
    "model = LinearRegression()\n",
    "model.fit(X_encoded, y)\n",
    "\n",
    "# Predict the price for a Mercedes Benz with 4 years old and mileage of 45000\n",
    "mercedes_input = [[0, 1, 45000, 4]]  \n",
    "# One-hot encoded values for Mercedes Benz\n",
    "predicted_price = model.predict(mercedes_input)\n",
    "\n",
    "# Display the predicted price\n",
    "print(f'Predicted Price for a Mercedes Benz with 4 years old and mileage 45000: ${predicted_price[0]:,.2f}')\n"
   ]
  },
  {
   "cell_type": "code",
   "execution_count": 27,
   "id": "92d07654",
   "metadata": {},
   "outputs": [
    {
     "name": "stdout",
     "output_type": "stream",
     "text": [
      "Predicted Price for a BMW X5 with 7 years old and mileage 86000: $11,080.74\n"
     ]
    }
   ],
   "source": [
    "# Predict the price for a BMW X5 with 7 years old and mileage 86000\n",
    "bmw_input = [[1, 0, 86000, 7]]  # One-hot encoded values for BMW X5\n",
    "predicted_price_bmw = model.predict(bmw_input)\n",
    "\n",
    "# Display the predicted price\n",
    "print(f'Predicted Price for a BMW X5 with 7 years old and mileage 86000: ${predicted_price_bmw[0]:,.2f}')"
   ]
  },
  {
   "cell_type": "code",
   "execution_count": null,
   "id": "3c2f7911",
   "metadata": {},
   "outputs": [],
   "source": []
  },
  {
   "cell_type": "code",
   "execution_count": null,
   "id": "00dcb9ef",
   "metadata": {},
   "outputs": [],
   "source": []
  },
  {
   "cell_type": "code",
   "execution_count": null,
   "id": "3c94a8e2",
   "metadata": {},
   "outputs": [],
   "source": []
  },
  {
   "cell_type": "code",
   "execution_count": null,
   "id": "8c9ce15e",
   "metadata": {},
   "outputs": [],
   "source": []
  },
  {
   "cell_type": "code",
   "execution_count": null,
   "id": "766fa0ec",
   "metadata": {},
   "outputs": [],
   "source": []
  }
 ],
 "metadata": {
  "kernelspec": {
   "display_name": "Python 3 (ipykernel)",
   "language": "python",
   "name": "python3"
  },
  "language_info": {
   "codemirror_mode": {
    "name": "ipython",
    "version": 3
   },
   "file_extension": ".py",
   "mimetype": "text/x-python",
   "name": "python",
   "nbconvert_exporter": "python",
   "pygments_lexer": "ipython3",
   "version": "3.11.5"
  }
 },
 "nbformat": 4,
 "nbformat_minor": 5
}
