{
 "cells": [
  {
   "cell_type": "code",
   "execution_count": 28,
   "id": "b7c15d94",
   "metadata": {
    "scrolled": true
   },
   "outputs": [
    {
     "name": "stdout",
     "output_type": "stream",
     "text": [
      "   pixel_0  pixel_1  pixel_2  pixel_3  pixel_4  pixel_5  pixel_6  pixel_7  \\\n",
      "0      0.0      0.0      5.0     13.0      9.0      1.0      0.0      0.0   \n",
      "1      0.0      0.0      0.0     12.0     13.0      5.0      0.0      0.0   \n",
      "2      0.0      0.0      0.0      4.0     15.0     12.0      0.0      0.0   \n",
      "3      0.0      0.0      7.0     15.0     13.0      1.0      0.0      0.0   \n",
      "4      0.0      0.0      0.0      1.0     11.0      0.0      0.0      0.0   \n",
      "\n",
      "   pixel_8  pixel_9  ...  pixel_55  pixel_56  pixel_57  pixel_58  pixel_59  \\\n",
      "0      0.0      0.0  ...       0.0       0.0       0.0       6.0      13.0   \n",
      "1      0.0      0.0  ...       0.0       0.0       0.0       0.0      11.0   \n",
      "2      0.0      0.0  ...       0.0       0.0       0.0       0.0       3.0   \n",
      "3      0.0      8.0  ...       0.0       0.0       0.0       7.0      13.0   \n",
      "4      0.0      0.0  ...       0.0       0.0       0.0       0.0       2.0   \n",
      "\n",
      "   pixel_60  pixel_61  pixel_62  pixel_63  target  \n",
      "0      10.0       0.0       0.0       0.0       0  \n",
      "1      16.0      10.0       0.0       0.0       1  \n",
      "2      11.0      16.0       9.0       0.0       2  \n",
      "3      13.0       9.0       0.0       0.0       3  \n",
      "4      16.0       4.0       0.0       0.0       4  \n",
      "\n",
      "[5 rows x 65 columns]\n"
     ]
    }
   ],
   "source": [
    "from sklearn.model_selection import GridSearchCV\n",
    "import pandas as pd\n",
    "from sklearn.neighbors import KNeighborsClassifier\n",
    "from sklearn.datasets import load_digits\n",
    "from sklearn.model_selection import train_test_split\n",
    "\n",
    "digits = load_digits()\n",
    "digits_df = pd.DataFrame(data=digits.data, columns=[f'pixel_{i}' for i in range(digits.data.shape[1])])\n",
    "digits_df['target'] = digits.target\n",
    "print(digits_df.head())"
   ]
  },
  {
   "cell_type": "code",
   "execution_count": 60,
   "id": "8c74a567",
   "metadata": {},
   "outputs": [],
   "source": [
    "X = digits_df.drop('target', axis=1)\n",
    "y = digits_df['target']\n",
    "# Split the dataset into training and testing sets\n",
    "X_train, X_test, y_train, y_test = train_test_split(X, y, test_size=0.3, random_state=42)"
   ]
  },
  {
   "cell_type": "code",
   "execution_count": 63,
   "id": "90534cda",
   "metadata": {},
   "outputs": [],
   "source": [
    "\n",
    "# Create KNN model\n",
    "knn_model = KNeighborsClassifier(n_neighbors=5)\n",
    "\n",
    "# Train the model\n",
    "knn_model.fit(X_train, y_train)\n",
    "\n",
    "# Make predictions on the test set\n",
    "y_pred = knn_model.predict(X_test)\n"
   ]
  },
  {
   "cell_type": "code",
   "execution_count": 64,
   "id": "3ca3cfc0",
   "metadata": {
    "scrolled": true
   },
   "outputs": [
    {
     "data": {
      "text/plain": [
       "0.9925925925925926"
      ]
     },
     "execution_count": 64,
     "metadata": {},
     "output_type": "execute_result"
    }
   ],
   "source": [
    "knn_model.score(X_test,y_test)"
   ]
  },
  {
   "cell_type": "code",
   "execution_count": 65,
   "id": "a941890d",
   "metadata": {},
   "outputs": [
    {
     "data": {
      "image/png": "[encoded data removed]",
      "text/plain": [
       "<Figure size 640x480 with 1 Axes>"
      ]
     },
     "metadata": {},
     "output_type": "display_data"
    }
   ],
   "source": [
    "from sklearn.metrics import confusion_matrix\n",
    "cm = confusion_matrix(y_test,y_pred)\n",
    "import seaborn as sns\n",
    "import matplotlib.pyplot as plt\n",
    "\n",
    "# Assuming cm is your confusion matrix\n",
    "sns.heatmap(cm, annot=True, fmt=\"d\", cmap=\"Blues\", cbar=False)\n",
    "plt.xlabel(\"Predicted\")\n",
    "plt.ylabel(\"Actual\")\n",
    "plt.show()"
   ]
  },
  {
   "cell_type": "code",
   "execution_count": null,
   "id": "5e132f10",
   "metadata": {},
   "outputs": [],
   "source": []
  }
 ],
 "metadata": {
  "kernelspec": {
   "display_name": "Python 3 (ipykernel)",
   "language": "python",
   "name": "python3"
  },
  "language_info": {
   "codemirror_mode": {
    "name": "ipython",
    "version": 3
   },
   "file_extension": ".py",
   "mimetype": "text/x-python",
   "name": "python",
   "nbconvert_exporter": "python",
   "pygments_lexer": "ipython3",
   "version": "3.11.5"
  }
 },
 "nbformat": 4,
 "nbformat_minor": 5
}
